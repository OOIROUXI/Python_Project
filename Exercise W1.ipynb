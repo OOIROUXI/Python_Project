{
 "cells": [
  {
   "cell_type": "code",
   "execution_count": 10,
   "id": "905aa124",
   "metadata": {},
   "outputs": [
    {
     "name": "stdout",
     "output_type": "stream",
     "text": [
      "10\n",
      "no such grade in the system\n"
     ]
    }
   ],
   "source": [
    "grade = int(input())\n",
    "if grade == 'A':\n",
    "    print(\"A很了不起吗？\")\n",
    "elif grade == 'B':\n",
    "    print(\"Good\")\n",
    "elif grade == 'C':\n",
    "    print (\"Pass\")\n",
    "elif grade == 'X' :\n",
    "    print (\"X ahahaha\")\n",
    "else :\n",
    "    print (\"no such grade in the system\")\n",
    "            "
   ]
  },
  {
   "cell_type": "code",
   "execution_count": 11,
   "id": "abba8ca6",
   "metadata": {},
   "outputs": [
    {
     "name": "stdout",
     "output_type": "stream",
     "text": [
      "<class 'int'>\n"
     ]
    }
   ],
   "source": [
    "print(type(grade))\n"
   ]
  },
  {
   "cell_type": "code",
   "execution_count": 15,
   "id": "aa84f9d9",
   "metadata": {},
   "outputs": [],
   "source": [
    "if grade == 100 :\n",
    "    print (grade+100)"
   ]
  },
  {
   "cell_type": "code",
   "execution_count": 10,
   "id": "af17169a",
   "metadata": {},
   "outputs": [
    {
     "name": "stdout",
     "output_type": "stream",
     "text": [
      "3\n"
     ]
    }
   ],
   "source": [
    "def sum(a,b):\n",
    "    z=a+b\n",
    "    return z\n",
    "def substraction(a,b):\n",
    "    z=a-b\n",
    "def multiple(a,b):\n",
    "    z=a*b\n",
    "\n",
    "a=1\n",
    "b=2\n",
    "    \n",
    "\n",
    "print(sum(a,b))"
   ]
  },
  {
   "cell_type": "code",
   "execution_count": 2,
   "id": "1f1299f6",
   "metadata": {},
   "outputs": [
    {
     "name": "stdout",
     "output_type": "stream",
     "text": [
      "1\n",
      "2\n"
     ]
    }
   ],
   "source": [
    "a=input()\n",
    "b=input()\n",
    "add(a,b)"
   ]
  },
  {
   "cell_type": "code",
   "execution_count": 18,
   "id": "2c302df9",
   "metadata": {},
   "outputs": [
    {
     "name": "stdout",
     "output_type": "stream",
     "text": [
      "what subjectk\n",
      "nope\n"
     ]
    }
   ],
   "source": [
    "subjectS =[\"KIL1002\",\"KIL1003\"]\n",
    "\n",
    "def subject_availability(subject_name):\n",
    "    if (is_available(subject_name)):\n",
    "        return\"the subject is available\"\n",
    "    else:\n",
    "        return \"nope\"\n",
    "    \n",
    "def is_available(subject_name):\n",
    "    return subject_name in subjectS\n",
    "\n",
    "input_subject=input(\"what subject\")\n",
    "print(subject_availability(input_subject))"
   ]
  },
  {
   "cell_type": "code",
   "execution_count": null,
   "id": "30f488f7",
   "metadata": {},
   "outputs": [],
   "source": []
  }
 ],
 "metadata": {
  "kernelspec": {
   "display_name": "Python 3 (ipykernel)",
   "language": "python",
   "name": "python3"
  },
  "language_info": {
   "codemirror_mode": {
    "name": "ipython",
    "version": 3
   },
   "file_extension": ".py",
   "mimetype": "text/x-python",
   "name": "python",
   "nbconvert_exporter": "python",
   "pygments_lexer": "ipython3",
   "version": "3.11.5"
  }
 },
 "nbformat": 4,
 "nbformat_minor": 5
}
