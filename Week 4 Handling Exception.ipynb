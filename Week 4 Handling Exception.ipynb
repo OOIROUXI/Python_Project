{
 "cells": [
  {
   "cell_type": "code",
   "execution_count": 22,
   "id": "bcb89ea7",
   "metadata": {},
   "outputs": [
    {
     "ename": "IndentationError",
     "evalue": "unexpected indent (1884135796.py, line 3)",
     "output_type": "error",
     "traceback": [
      "\u001b[1;36m  Cell \u001b[1;32mIn[22], line 3\u001b[1;36m\u001b[0m\n\u001b[1;33m    except ValueError:\u001b[0m\n\u001b[1;37m    ^\u001b[0m\n\u001b[1;31mIndentationError\u001b[0m\u001b[1;31m:\u001b[0m unexpected indent\n"
     ]
    }
   ],
   "source": [
    "try:\n",
    "    number = int(input(\"enter a number\"))\n",
    "     except ValueError:\n",
    "        print(\"That is not a number!!\")\n",
    "    else:\n",
    "        print(\"you entered a number\")\n",
    "    finally:\n",
    "        print(\"This is execute no matter what\")\n",
    "        "
   ]
  },
  {
   "cell_type": "code",
   "execution_count": 13,
   "id": "159a5fd3",
   "metadata": {},
   "outputs": [],
   "source": [
    "def simple_calculator():\n",
    "    try: \n",
    "        user_input1=int(input(\"enter the first number : \"))\n",
    "    except ValueError:\n",
    "        print(\"Please enter a valid number\")\n",
    "        \n",
    "    try:\n",
    "        user_input2=int(input(\"Enter the second number\"))\n",
    "    except ValueError:\n",
    "        print(\"Pls enter a valid number.\")\n",
    "    \n",
    "    try:\n",
    "        user_input3= input(\"Please choose a mathematical operation: addition, subtraction, multiplication or division. \")\n",
    "        if user_input3==\"addition\":\n",
    "            result=user_input1+user_input2\n",
    "        \n",
    "        elif user_input3==\"substraction\":\n",
    "            result=user_input1-user_input2\n",
    "            \n",
    "        elif user_input3==\"multiplicaion\":\n",
    "            result=user_input1*user_input2\n",
    "            \n",
    "        elif user_input3==\"division\":\n",
    "            try:\n",
    "                result=user_input1/user_input2\n",
    "            except ZeroDivisionError:\n",
    "                print(\"Division by 0 is not allow\")\n",
    "        return result\n",
    "    except:\n",
    "        print(\"Pls enter a valid mathematical operation\")\n",
    "        \n"
   ]
  },
  {
   "cell_type": "code",
   "execution_count": 14,
   "id": "fb14b93e",
   "metadata": {},
   "outputs": [
    {
     "name": "stdout",
     "output_type": "stream",
     "text": [
      "enter the first number : 1\n",
      "Enter the second number0\n",
      "Please choose a mathematical operation: addition, subtraction, multiplication or division. division\n",
      "Division by 0 is not allow\n",
      "Pls enter a valid mathematical operation\n",
      "None\n"
     ]
    }
   ],
   "source": [
    "print(simple_calculator())"
   ]
  },
  {
   "cell_type": "code",
   "execution_count": 11,
   "id": "aca5cd2d",
   "metadata": {},
   "outputs": [
    {
     "name": "stdout",
     "output_type": "stream",
     "text": [
      "error\n"
     ]
    }
   ],
   "source": [
    "try:\n",
    "    x=\"2\"+2\n",
    "except TypeError:\n",
    "    #code that run if the exfeption occur\n",
    "    print(\"error\")\n",
    "\n",
    "        "
   ]
  },
  {
   "cell_type": "code",
   "execution_count": 15,
   "id": "9ae48e5b",
   "metadata": {},
   "outputs": [
    {
     "name": "stdout",
     "output_type": "stream",
     "text": [
      "pls entre a valid number1\n"
     ]
    }
   ],
   "source": [
    "try:\n",
    "    number= int(input(\"pls entre a valid number\"))\n",
    "except:\n",
    "    print(\"the data input is not num.\")"
   ]
  },
  {
   "cell_type": "code",
   "execution_count": null,
   "id": "dbcdc41c",
   "metadata": {},
   "outputs": [],
   "source": []
  },
  {
   "cell_type": "code",
   "execution_count": null,
   "id": "99fb2a80",
   "metadata": {},
   "outputs": [],
   "source": []
  }
 ],
 "metadata": {
  "kernelspec": {
   "display_name": "Python 3 (ipykernel)",
   "language": "python",
   "name": "python3"
  },
  "language_info": {
   "codemirror_mode": {
    "name": "ipython",
    "version": 3
   },
   "file_extension": ".py",
   "mimetype": "text/x-python",
   "name": "python",
   "nbconvert_exporter": "python",
   "pygments_lexer": "ipython3",
   "version": "3.11.5"
  }
 },
 "nbformat": 4,
 "nbformat_minor": 5
}
