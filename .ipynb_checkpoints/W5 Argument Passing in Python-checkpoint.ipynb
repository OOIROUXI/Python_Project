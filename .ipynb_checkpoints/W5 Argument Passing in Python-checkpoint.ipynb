{
 "cells": [
  {
   "cell_type": "code",
   "execution_count": 3,
   "id": "b80105e7",
   "metadata": {},
   "outputs": [
    {
     "name": "stdout",
     "output_type": "stream",
     "text": [
      "Aliceis enrolled in Mathematics class. \n"
     ]
    }
   ],
   "source": [
    "#Positional Argument\n",
    "def student_information(class_name,student_name):\n",
    "    #display info abt a student and their class\n",
    "    print(student_name+\"is enrolled in \" + class_name +\" class. \")\n",
    "\n",
    "student_information('Mathematics','Alice') #detect the position"
   ]
  },
  {
   "cell_type": "code",
   "execution_count": 6,
   "id": "f46740d4",
   "metadata": {},
   "outputs": [
    {
     "name": "stdout",
     "output_type": "stream",
     "text": [
      "Alice is enrolled in Math class. \n"
     ]
    }
   ],
   "source": [
    "#Keyword argument\n",
    "def student_info(class_name,student_name):\n",
    "    #display info abt a student and class.\n",
    "    print(student_name+\" is enrolled in \"+class_name+\" class. \")\n",
    "student_info(student_name='Alice',class_name='Math') #detect the key word"
   ]
  },
  {
   "cell_type": "code",
   "execution_count": 3,
   "id": "0b4c3efc",
   "metadata": {},
   "outputs": [
    {
     "name": "stdout",
     "output_type": "stream",
     "text": [
      "student name : Ahmed\n",
      "Enrolled Course: Physics\n"
     ]
    }
   ],
   "source": [
    "#Defult argument\n",
    "def enroll_student(student_name,course='Introduction to Python'):\n",
    "    #enroll a student in a course with a default option\n",
    "    print(\"student name : \"+ student_name)\n",
    "    print(\"Enrolled Course: \"+course)\n",
    "    \n",
    "enroll_student(\"Ahmed\",\"Physics\")\n",
    "\n",
    "   "
   ]
  },
  {
   "cell_type": "code",
   "execution_count": 5,
   "id": "bab83745",
   "metadata": {},
   "outputs": [],
   "source": [
    "def enroll_in_courses(student_name,*courses):\n",
    "    #multiple course\n",
    "    print(\"student : \"+student_name)\n",
    "    print(\"enrolled in: \")\n",
    "    for course in courses:\n",
    "        print(\"-\"+course)"
   ]
  },
  {
   "cell_type": "code",
   "execution_count": 6,
   "id": "cac5a66f",
   "metadata": {},
   "outputs": [
    {
     "name": "stdout",
     "output_type": "stream",
     "text": [
      "student : Aya\n",
      "enrolled in: \n",
      "-Biology\n",
      "-Chemi\n",
      "-Comp\n"
     ]
    }
   ],
   "source": [
    "enroll_in_courses('Aya','Biology','Chemi','Comp')"
   ]
  },
  {
   "cell_type": "code",
   "execution_count": 17,
   "id": "07c1a4ab",
   "metadata": {},
   "outputs": [],
   "source": [
    "def enroll_student(student_name,**details):\n",
    "    print(\"Enrolling \"+student_name+\"with following details: \")\n",
    "    for detail,value in details.items():\n",
    "        print(\"-\" + detail.replace('_','').title()+\":\"+str(value))"
   ]
  },
  {
   "cell_type": "code",
   "execution_count": 18,
   "id": "5d482ba6",
   "metadata": {},
   "outputs": [
    {
     "name": "stdout",
     "output_type": "stream",
     "text": [
      "Enrolling Ayawith following details: \n",
      "-Course:Dance\n",
      "-Semester:One\n",
      "-Paymentmethod:credit card\n"
     ]
    }
   ],
   "source": [
    "enroll_student('Aya',course='Dance',semester ='One',payment_method='credit card')"
   ]
  },
  {
   "cell_type": "code",
   "execution_count": 30,
   "id": "8937cad3",
   "metadata": {},
   "outputs": [
    {
     "ename": "UnboundLocalError",
     "evalue": "cannot access local variable 'print' where it is not associated with a value",
     "output_type": "error",
     "traceback": [
      "\u001b[1;31m---------------------------------------------------------------------------\u001b[0m",
      "\u001b[1;31mUnboundLocalError\u001b[0m                         Traceback (most recent call last)",
      "Cell \u001b[1;32mIn[30], line 6\u001b[0m\n\u001b[0;32m      4\u001b[0m     \u001b[38;5;28;01mfor\u001b[39;00m bookdetail \u001b[38;5;129;01min\u001b[39;00m bookdetails:\n\u001b[0;32m      5\u001b[0m         \u001b[38;5;28mprint\u001b[39m(\u001b[38;5;124m\"\u001b[39m\u001b[38;5;124m-\u001b[39m\u001b[38;5;124m\"\u001b[39m\u001b[38;5;241m+\u001b[39mbookdetail)\n\u001b[1;32m----> 6\u001b[0m checkout_process(\u001b[38;5;124m'\u001b[39m\u001b[38;5;124mAlice\u001b[39m\u001b[38;5;124m'\u001b[39m,\u001b[38;5;124m'\u001b[39m\u001b[38;5;124m1984\u001b[39m\u001b[38;5;124m'\u001b[39m,\u001b[38;5;124m'\u001b[39m\u001b[38;5;124mBrave New World\u001b[39m\u001b[38;5;124m'\u001b[39m)\n",
      "Cell \u001b[1;32mIn[30], line 3\u001b[0m, in \u001b[0;36mcheckout_process\u001b[1;34m(librarian_name, *bookdetails)\u001b[0m\n\u001b[0;32m      1\u001b[0m \u001b[38;5;28;01mdef\u001b[39;00m \u001b[38;5;21mcheckout_process\u001b[39m(librarian_name,\u001b[38;5;241m*\u001b[39mbookdetails):\n\u001b[0;32m      2\u001b[0m     \u001b[38;5;28mprint\u001b[39m:(\u001b[38;5;124m\"\u001b[39m\u001b[38;5;124mCheckout process by : \u001b[39m\u001b[38;5;124m\"\u001b[39m\u001b[38;5;241m+\u001b[39mlibririan_name)\n\u001b[1;32m----> 3\u001b[0m     \u001b[38;5;28mprint\u001b[39m(\u001b[38;5;124m\"\u001b[39m\u001b[38;5;124mBook Checked Out: \u001b[39m\u001b[38;5;124m\"\u001b[39m)\n\u001b[0;32m      4\u001b[0m     \u001b[38;5;28;01mfor\u001b[39;00m bookdetail \u001b[38;5;129;01min\u001b[39;00m bookdetails:\n\u001b[0;32m      5\u001b[0m         \u001b[38;5;28mprint\u001b[39m(\u001b[38;5;124m\"\u001b[39m\u001b[38;5;124m-\u001b[39m\u001b[38;5;124m\"\u001b[39m\u001b[38;5;241m+\u001b[39mbookdetail)\n",
      "\u001b[1;31mUnboundLocalError\u001b[0m: cannot access local variable 'print' where it is not associated with a value"
     ]
    }
   ],
   "source": [
    "def checkout_process(librarian_name,*bookdetails):\n",
    "    print:(\"Checkout process by : \"+libririan_name)\n",
    "    print(\"Book Checked Out: \")\n",
    "    for bookdetail in bookdetails:\n",
    "        print(\"-\"+bookdetail)\n",
    "checkout_process('Alice','1984','Brave New World')"
   ]
  },
  {
   "cell_type": "code",
   "execution_count": 19,
   "id": "1f706520",
   "metadata": {},
   "outputs": [
    {
     "name": "stdout",
     "output_type": "stream",
     "text": [
      "Checkout Processed by: Sarah\n",
      "Book Checked Out: \n",
      "-1984\n",
      "-Brave New World\n",
      "Checkout Duration: 3weeks\n",
      "Additional Checkout Details: \n",
      "-Late Fee:$0.25\n",
      "-Renewals Allowed:2\n",
      "Special Conditions for Checkout: \n",
      "-Handle with care\n"
     ]
    }
   ],
   "source": [
    "def Checkout_process(libririan_name,*book,duration,specialcondition,**checkoutdetails):\n",
    "    #multiple course\n",
    "    #*is for loop \n",
    "    print(\"Checkout Processed by: \"+libririan_name)\n",
    "    print(\"Book Checked Out: \")\n",
    "    for item in book:\n",
    "        print(\"-\"+item)\n",
    "    \n",
    "    print(\"Checkout Duration: \"+ duration)\n",
    "    print(\"Additional Checkout Details: \")\n",
    "    for checkoutdetails,item in checkoutdetails.items():\n",
    "        print(\"-\"+checkoutdetails.replace('_',' ').title()+\":\"+str(item))\n",
    "    print(\"Special Conditions for Checkout: \")\n",
    "    print(\"-\"+specialcondition)\n",
    "    #cnnt put for ,will cause it to array \n",
    "Checkout_process('Sarah','1984','Brave New World',specialcondition=\"Handle with care\",duration='3weeks',Late_Fee='$0.25',Renewals_Allowed='2')"
   ]
  },
  {
   "cell_type": "raw",
   "id": "7fdf7643",
   "metadata": {},
   "source": []
  }
 ],
 "metadata": {
  "kernelspec": {
   "display_name": "Python 3 (ipykernel)",
   "language": "python",
   "name": "python3"
  },
  "language_info": {
   "codemirror_mode": {
    "name": "ipython",
    "version": 3
   },
   "file_extension": ".py",
   "mimetype": "text/x-python",
   "name": "python",
   "nbconvert_exporter": "python",
   "pygments_lexer": "ipython3",
   "version": "3.11.5"
  }
 },
 "nbformat": 4,
 "nbformat_minor": 5
}
