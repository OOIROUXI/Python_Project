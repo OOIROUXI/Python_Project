{
 "cells": [
  {
   "cell_type": "code",
   "execution_count": 3,
   "id": "b80105e7",
   "metadata": {},
   "outputs": [
    {
     "name": "stdout",
     "output_type": "stream",
     "text": [
      "Aliceis enrolled in Mathematics class. \n"
     ]
    }
   ],
   "source": [
    "#Positional Argument\n",
    "def student_information(class_name,student_name):\n",
    "    #display info abt a student and their class\n",
    "    print(student_name+\"is enrolled in \" + class_name +\" class. \")\n",
    "\n",
    "student_information('Mathematics','Alice') #detect the position"
   ]
  },
  {
   "cell_type": "code",
   "execution_count": 6,
   "id": "f46740d4",
   "metadata": {},
   "outputs": [
    {
     "name": "stdout",
     "output_type": "stream",
     "text": [
      "Alice is enrolled in Math class. \n"
     ]
    }
   ],
   "source": [
    "#Keyword argument\n",
    "def student_info(class_name,student_name):\n",
    "    #display info abt a student and class.\n",
    "    print(student_name+\" is enrolled in \"+class_name+\" class. \")\n",
    "student_info(student_name='Alice',class_name='Math') #detect the key word"
   ]
  },
  {
   "cell_type": "code",
   "execution_count": null,
   "id": "0b4c3efc",
   "metadata": {},
   "outputs": [],
   "source": [
    "#Defult argument\n",
    "def enroll_(student_name,course='Introduction to Python'):\n",
    "    #enroll a student in a course with a default option\n",
    "    print(\"student name : \"+ student_name)\n",
    "    print(\"Enrolled Course: \"+course)\n",
    "    #using the default argument for course:\n",
    "    "
   ]
  }
 ],
 "metadata": {
  "kernelspec": {
   "display_name": "Python 3 (ipykernel)",
   "language": "python",
   "name": "python3"
  },
  "language_info": {
   "codemirror_mode": {
    "name": "ipython",
    "version": 3
   },
   "file_extension": ".py",
   "mimetype": "text/x-python",
   "name": "python",
   "nbconvert_exporter": "python",
   "pygments_lexer": "ipython3",
   "version": "3.11.5"
  }
 },
 "nbformat": 4,
 "nbformat_minor": 5
}
