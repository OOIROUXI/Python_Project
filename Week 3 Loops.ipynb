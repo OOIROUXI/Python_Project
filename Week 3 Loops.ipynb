{
 "cells": [
  {
   "cell_type": "code",
   "execution_count": 48,
   "id": "a596f240",
   "metadata": {},
   "outputs": [
    {
     "name": "stdout",
     "output_type": "stream",
     "text": [
      "apple 0\n",
      "manggo 1\n",
      "cherry 2\n",
      "pineapple 3\n",
      "apple 4\n"
     ]
    }
   ],
   "source": [
    "fruits = [\"apple\",\"manggo\",\"cherry\",\"pineapple\",\"apple\"] #use for loop to find a given fruit name in the list \n",
    "index=0 #start from 0\n",
    "for item in fruits :\n",
    " print (item,index)\n",
    " index +=1 #for the number to listed is 0-4 not repeated 0000, must space b4 index\n",
    "\n",
    "\n",
    "# The 'item'in line 2 and 3 can be change to 'fruit' or any word , it's not important,juz rmb to synchronised it in line 2 ,3\n",
    " "
   ]
  },
  {
   "cell_type": "code",
   "execution_count": 6,
   "id": "76fc5c54",
   "metadata": {},
   "outputs": [
    {
     "name": "stdout",
     "output_type": "stream",
     "text": [
      "0\n",
      "1\n",
      "2\n",
      "3\n",
      "4\n"
     ]
    }
   ],
   "source": [
    "count =0\n",
    "while count <5 :\n",
    "    print (count)\n",
    "    count +=1 #or count= count+1\n",
    "    "
   ]
  },
  {
   "cell_type": "code",
   "execution_count": 56,
   "id": "f8b5f3f8",
   "metadata": {},
   "outputs": [
    {
     "name": "stdout",
     "output_type": "stream",
     "text": [
      "this is even number:  2\n",
      "this is even number:  4\n",
      "this is even number:  6\n",
      "this is even number:  8\n",
      "this is even number:  10\n",
      "this is even number:  12\n",
      "this is even number:  14\n",
      "this is even number:  16\n",
      "this is even number:  18\n",
      "this is even number:  20\n",
      "this is even number:  22\n",
      "this is even number:  24\n",
      "this is even number:  26\n",
      "this is even number:  28\n",
      "this is even number:  30\n"
     ]
    }
   ],
   "source": [
    "count=1\n",
    "while(count<=30):\n",
    "    if count % 2 ==0: #means divide by 2\n",
    "     print(\"this is even number: \",count)\n",
    "    count=count+1"
   ]
  },
  {
   "cell_type": "code",
   "execution_count": null,
   "id": "c4e2e2b6",
   "metadata": {},
   "outputs": [],
   "source": [
    "count =0\n",
    "while count <5 :\n",
    "    print (count)\n",
    "    count = count +1"
   ]
  },
  {
   "cell_type": "code",
   "execution_count": 44,
   "id": "9b3bd3c3",
   "metadata": {},
   "outputs": [
    {
     "name": "stdout",
     "output_type": "stream",
     "text": [
      "2\n",
      "3\n",
      "4\n",
      "5\n",
      "6\n",
      "7\n",
      "8\n",
      "9\n"
     ]
    }
   ],
   "source": [
    "for num in range (2,30):\n",
    "    if num ==10:\n",
    "        break #stop listing in 5\n",
    "    print (num)"
   ]
  },
  {
   "cell_type": "code",
   "execution_count": 57,
   "id": "68d9f9ad",
   "metadata": {},
   "outputs": [
    {
     "name": "stdout",
     "output_type": "stream",
     "text": [
      "1\n",
      "3\n",
      "4\n",
      "5\n",
      "6\n",
      "7\n",
      "8\n",
      "9\n"
     ]
    }
   ],
   "source": [
    "for num in range (1,10):\n",
    "    if num ==2:\n",
    "        continue #skip number 2\n",
    "    print (num)"
   ]
  },
  {
   "cell_type": "code",
   "execution_count": 58,
   "id": "e7e98bd0",
   "metadata": {},
   "outputs": [
    {
     "name": "stdout",
     "output_type": "stream",
     "text": [
      "0 0\n",
      "0 1\n",
      "0 2\n",
      "1 0\n",
      "1 1\n",
      "1 2\n",
      "2 0\n",
      "2 1\n",
      "2 2\n"
     ]
    }
   ],
   "source": [
    "for i in range (3):\n",
    " for j in range (3):\n",
    "    print(i,j)"
   ]
  },
  {
   "cell_type": "code",
   "execution_count": 69,
   "id": "661b0fb1",
   "metadata": {},
   "outputs": [
    {
     "name": "stdout",
     "output_type": "stream",
     "text": [
      "1 x 1 = 1\n",
      "1 x 2 = 2\n",
      "1 x 3 = 3\n",
      "1 x 4 = 4\n",
      "1 x 5 = 5\n",
      "--------------\n",
      "2 x 1 = 2\n",
      "2 x 2 = 4\n",
      "2 x 3 = 6\n",
      "2 x 4 = 8\n",
      "2 x 5 = 10\n",
      "--------------\n",
      "3 x 1 = 3\n",
      "3 x 2 = 6\n",
      "3 x 3 = 9\n",
      "3 x 4 = 12\n",
      "3 x 5 = 15\n",
      "--------------\n",
      "4 x 1 = 4\n",
      "4 x 2 = 8\n",
      "4 x 3 = 12\n",
      "4 x 4 = 16\n",
      "4 x 5 = 20\n",
      "--------------\n",
      "5 x 1 = 5\n",
      "5 x 2 = 10\n",
      "5 x 3 = 15\n",
      "5 x 4 = 20\n",
      "5 x 5 = 25\n",
      "--------------\n",
      "6 x 1 = 6\n",
      "6 x 2 = 12\n",
      "6 x 3 = 18\n",
      "6 x 4 = 24\n",
      "6 x 5 = 30\n",
      "--------------\n",
      "7 x 1 = 7\n",
      "7 x 2 = 14\n",
      "7 x 3 = 21\n",
      "7 x 4 = 28\n",
      "7 x 5 = 35\n",
      "--------------\n",
      "8 x 1 = 8\n",
      "8 x 2 = 16\n",
      "8 x 3 = 24\n",
      "8 x 4 = 32\n",
      "8 x 5 = 40\n",
      "--------------\n",
      "9 x 1 = 9\n",
      "9 x 2 = 18\n",
      "9 x 3 = 27\n",
      "9 x 4 = 36\n",
      "9 x 5 = 45\n",
      "--------------\n",
      "10 x 1 = 10\n",
      "10 x 2 = 20\n",
      "10 x 3 = 30\n",
      "10 x 4 = 40\n",
      "10 x 5 = 50\n",
      "--------------\n",
      "11 x 1 = 11\n",
      "11 x 2 = 22\n",
      "11 x 3 = 33\n",
      "11 x 4 = 44\n",
      "11 x 5 = 55\n",
      "--------------\n",
      "12 x 1 = 12\n",
      "12 x 2 = 24\n",
      "12 x 3 = 36\n",
      "12 x 4 = 48\n",
      "12 x 5 = 60\n",
      "--------------\n",
      "13 x 1 = 13\n",
      "13 x 2 = 26\n",
      "13 x 3 = 39\n",
      "13 x 4 = 52\n",
      "13 x 5 = 65\n",
      "--------------\n",
      "14 x 1 = 14\n",
      "14 x 2 = 28\n",
      "14 x 3 = 42\n",
      "14 x 4 = 56\n",
      "14 x 5 = 70\n",
      "--------------\n",
      "15 x 1 = 15\n",
      "15 x 2 = 30\n",
      "15 x 3 = 45\n",
      "15 x 4 = 60\n",
      "15 x 5 = 75\n",
      "--------------\n",
      "16 x 1 = 16\n",
      "16 x 2 = 32\n",
      "16 x 3 = 48\n",
      "16 x 4 = 64\n",
      "16 x 5 = 80\n",
      "--------------\n",
      "17 x 1 = 17\n",
      "17 x 2 = 34\n",
      "17 x 3 = 51\n",
      "17 x 4 = 68\n",
      "17 x 5 = 85\n",
      "--------------\n",
      "18 x 1 = 18\n",
      "18 x 2 = 36\n",
      "18 x 3 = 54\n",
      "18 x 4 = 72\n",
      "18 x 5 = 90\n",
      "--------------\n",
      "19 x 1 = 19\n",
      "19 x 2 = 38\n",
      "19 x 3 = 57\n",
      "19 x 4 = 76\n",
      "19 x 5 = 95\n",
      "--------------\n"
     ]
    }
   ],
   "source": [
    "import math\n",
    "for i in range (1,20):\n",
    "    for j in range (1,6):\n",
    "         print(i,\"x\",j,\"=\",i*j)# take note to the spacing b4 print , different spacing cause different effect!\n",
    "    print(\"--------------\")"
   ]
  },
  {
   "cell_type": "code",
   "execution_count": 46,
   "id": "69d034aa",
   "metadata": {},
   "outputs": [
    {
     "name": "stdout",
     "output_type": "stream",
     "text": [
      "0\n",
      "1\n",
      "2\n",
      "3\n",
      "4\n",
      "5\n",
      "6\n",
      "7\n",
      "8\n",
      "9\n",
      "10\n",
      "11\n",
      "12\n",
      "13\n",
      "14\n",
      "15\n",
      "16\n",
      "17\n",
      "18\n",
      "19\n",
      "20\n",
      "21\n",
      "22\n",
      "23\n",
      "24\n",
      "25\n",
      "26\n",
      "27\n",
      "28\n",
      "29\n",
      "30\n",
      "31\n",
      "32\n",
      "33\n",
      "34\n",
      "35\n",
      "36\n",
      "37\n",
      "38\n",
      "39\n",
      "40\n",
      "41\n",
      "42\n",
      "43\n",
      "44\n",
      "45\n",
      "46\n",
      "47\n",
      "48\n",
      "49\n",
      "50\n",
      "51\n",
      "52\n",
      "53\n",
      "54\n",
      "55\n",
      "56\n",
      "57\n",
      "58\n",
      "59\n",
      "60\n",
      "61\n",
      "62\n",
      "63\n",
      "64\n",
      "65\n",
      "66\n",
      "67\n",
      "68\n",
      "69\n",
      "70\n",
      "71\n",
      "72\n",
      "73\n",
      "74\n",
      "75\n",
      "76\n",
      "77\n",
      "78\n",
      "79\n",
      "80\n",
      "81\n",
      "82\n",
      "83\n",
      "84\n",
      "85\n",
      "86\n",
      "87\n",
      "88\n",
      "89\n",
      "90\n",
      "91\n",
      "92\n",
      "93\n",
      "94\n",
      "95\n",
      "96\n",
      "97\n",
      "98\n",
      "99\n",
      "100\n"
     ]
    }
   ],
   "source": [
    "for item in range (101):\n",
    " print (item)"
   ]
  },
  {
   "cell_type": "code",
   "execution_count": null,
   "id": "ce42937f",
   "metadata": {},
   "outputs": [],
   "source": [
    "while (item)"
   ]
  },
  {
   "cell_type": "code",
   "execution_count": 29,
   "id": "a1844d36",
   "metadata": {},
   "outputs": [
    {
     "name": "stdout",
     "output_type": "stream",
     "text": [
      "The fruit name is appleat index 1\n",
      "The fruit name is manggoat index 2\n",
      "The fruit name is cherryat index 3\n"
     ]
    }
   ],
   "source": [
    "index =1\n",
    "for item in fruits:\n",
    "    print(\"The fruit name is \" + item +\" at index\", index )\n",
    "    index=index+1"
   ]
  },
  {
   "cell_type": "code",
   "execution_count": 37,
   "id": "9fec8a53",
   "metadata": {},
   "outputs": [
    {
     "name": "stdout",
     "output_type": "stream",
     "text": [
      "The apple is in the list at index 1\n",
      "The fruit name is apple at index 1\n",
      "The fruit name is manggo at index 2\n",
      "The fruit name is cherry at index 3\n"
     ]
    }
   ],
   "source": [
    "index =1\n",
    "for item in fruits:\n",
    "    if 'apple' in item :\n",
    "        print ('The apple is in the list at index', index)\n",
    "    print(\"The fruit name is \" + item +\" at index\", index )\n",
    "    index=index+1"
   ]
  },
  {
   "cell_type": "code",
   "execution_count": 43,
   "id": "25006092",
   "metadata": {},
   "outputs": [
    {
     "name": "stdout",
     "output_type": "stream",
     "text": [
      "The apple is in the list at index 1\n"
     ]
    }
   ],
   "source": [
    "index =1\n",
    "for item in fruits:\n",
    "    if 'apple' in item :\n",
    "        print ('The apple is in the list at index', index)\n",
    "        index=index+1"
   ]
  }
 ],
 "metadata": {
  "kernelspec": {
   "display_name": "Python 3 (ipykernel)",
   "language": "python",
   "name": "python3"
  },
  "language_info": {
   "codemirror_mode": {
    "name": "ipython",
    "version": 3
   },
   "file_extension": ".py",
   "mimetype": "text/x-python",
   "name": "python",
   "nbconvert_exporter": "python",
   "pygments_lexer": "ipython3",
   "version": "3.11.5"
  }
 },
 "nbformat": 4,
 "nbformat_minor": 5
}
