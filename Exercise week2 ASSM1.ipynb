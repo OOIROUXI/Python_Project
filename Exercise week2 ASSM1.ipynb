{
 "cells": [
  {
   "cell_type": "code",
   "execution_count": 1,
   "id": "24911fec",
   "metadata": {},
   "outputs": [
    {
     "name": "stdout",
     "output_type": "stream",
     "text": [
      "30\n",
      "10\n",
      "200\n",
      "2.0\n"
     ]
    }
   ],
   "source": [
    "def sum(a,b):\n",
    "  #a function that add two parameters\n",
    "  return a+b\n",
    "\n",
    "def sub(a,b):\n",
    "   return a-b\n",
    "\n",
    "def mult(a,b):\n",
    "   return a*b\n",
    "\n",
    "def divide(a,b):\n",
    "  return a/b\n",
    "\n",
    "a=20\n",
    "b=10\n",
    "print(sum(a,b))\n",
    "print(sub(a,b))\n",
    "print(mult(a,b))\n",
    "print(divide(a,b))\n"
   ]
  },
  {
   "cell_type": "code",
   "execution_count": 5,
   "id": "b190ca70",
   "metadata": {},
   "outputs": [
    {
     "name": "stdout",
     "output_type": "stream",
     "text": [
      "Please entre the subject chemistry\n",
      "the subject is available\n"
     ]
    }
   ],
   "source": [
    "subject =[\"software\",\"chemistry\",\"english\",\"arabic\"]\n",
    "def subject_availability(subject_name):\n",
    "  if (is_available(subject_name)):\n",
    "    return\"the subject is available\"\n",
    "  else :\n",
    "    return\"the subject is not available\"\n",
    "\n",
    "def is_available(subject_name):\n",
    "      return subject_name in subject\n",
    "\n",
    "subject_name=input(\"Please entre the subject \")\n",
    "print(subject_availability(subject_name))"
   ]
  },
  {
   "cell_type": "code",
   "execution_count": null,
   "id": "4619487c",
   "metadata": {},
   "outputs": [],
   "source": []
  }
 ],
 "metadata": {
  "kernelspec": {
   "display_name": "Python 3 (ipykernel)",
   "language": "python",
   "name": "python3"
  },
  "language_info": {
   "codemirror_mode": {
    "name": "ipython",
    "version": 3
   },
   "file_extension": ".py",
   "mimetype": "text/x-python",
   "name": "python",
   "nbconvert_exporter": "python",
   "pygments_lexer": "ipython3",
   "version": "3.11.5"
  }
 },
 "nbformat": 4,
 "nbformat_minor": 5
}
